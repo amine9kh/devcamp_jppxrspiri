{
 "cells": [
  {
   "cell_type": "code",
   "execution_count": 3,
   "metadata": {},
   "outputs": [
    {
     "data": {
      "text/plain": [
       "FileObject(id='file-z8RpzLVA4UctZybXWbkQTzOd', bytes=253819, created_at=1702075507, filename='data-tune.jsonl', object='file', purpose='fine-tune', status='processed', status_details=None)"
      ]
     },
     "execution_count": 3,
     "metadata": {},
     "output_type": "execute_result"
    }
   ],
   "source": [
    "from openai import OpenAI\n",
    "client = OpenAI(api_key=\"API_KEY\")\n",
    "\n",
    "client.files.create(\n",
    "  file=open(\"data-tune.jsonl\", \"rb\"),\n",
    "  purpose=\"fine-tune\"\n",
    ")"
   ]
  },
  {
   "cell_type": "code",
   "execution_count": 4,
   "metadata": {},
   "outputs": [
    {
     "data": {
      "text/plain": [
       "FineTuningJob(id='ftjob-WFOqgKM5KHagdAUrHTb5EAwR', created_at=1702075527, error=None, fine_tuned_model=None, finished_at=None, hyperparameters=Hyperparameters(n_epochs='auto', batch_size='auto', learning_rate_multiplier='auto'), model='gpt-3.5-turbo-1106', object='fine_tuning.job', organization_id='org-ChtvB8ZoouVV6zzwOOLkSTkV', result_files=[], status='validating_files', trained_tokens=None, training_file='file-z8RpzLVA4UctZybXWbkQTzOd', validation_file=None)"
      ]
     },
     "execution_count": 4,
     "metadata": {},
     "output_type": "execute_result"
    }
   ],
   "source": [
    "client.fine_tuning.jobs.create(\n",
    "  training_file=\"file-z8RpzLVA4UctZybXWbkQTzOd\", \n",
    "  model=\"gpt-3.5-turbo-1106\"\n",
    ")"
   ]
  },
  {
   "cell_type": "code",
   "execution_count": 5,
   "metadata": {},
   "outputs": [
    {
     "data": {
      "text/plain": [
       "SyncCursorPage[FineTuningJob](data=[FineTuningJob(id='ftjob-WFOqgKM5KHagdAUrHTb5EAwR', created_at=1702075527, error=None, fine_tuned_model=None, finished_at=None, hyperparameters=Hyperparameters(n_epochs=3, batch_size=1, learning_rate_multiplier=2), model='gpt-3.5-turbo-1106', object='fine_tuning.job', organization_id='org-ChtvB8ZoouVV6zzwOOLkSTkV', result_files=[], status='validating_files', trained_tokens=None, training_file='file-z8RpzLVA4UctZybXWbkQTzOd', validation_file=None), FineTuningJob(id='ftjob-XUwk8viot9oeSx511aq28337', created_at=1702072968, error=None, fine_tuned_model='ft:gpt-3.5-turbo-1106:personal:bac-gpt:8TdOZlYV', finished_at=1702073638, hyperparameters=Hyperparameters(n_epochs=5, batch_size=1, learning_rate_multiplier=2), model='gpt-3.5-turbo-1106', object='fine_tuning.job', organization_id='org-ChtvB8ZoouVV6zzwOOLkSTkV', result_files=['file-OIsiLFvoTHmkRT2TzBVS96vB'], status='succeeded', trained_tokens=80590, training_file='file-ece7d4C2Y3CRWutEp59RMLpK', validation_file='file-qURnUkH2ddnrVQsCuW0UpNBd'), FineTuningJob(id='ftjob-dDFRcIMo7nx8W8xjUKELWgmD', created_at=1702071045, error=None, fine_tuned_model='ft:gpt-3.5-turbo-1106:personal:bac-gpt:8Tcuc0GP', finished_at=1702071781, hyperparameters=Hyperparameters(n_epochs=5, batch_size=1, learning_rate_multiplier=2), model='gpt-3.5-turbo-1106', object='fine_tuning.job', organization_id='org-ChtvB8ZoouVV6zzwOOLkSTkV', result_files=['file-x1pNnJBLPFGQ86OygcVvVamo'], status='succeeded', trained_tokens=67505, training_file='file-WqCkWPtepiF6UAgxKDR6ZjYh', validation_file='file-jPkVaapb3hBUc6cPwu3qbBf6'), FineTuningJob(id='ftjob-SkW24YVMuOaYh4uTJNIc8F8H', created_at=1702068170, error=None, fine_tuned_model='ft:gpt-3.5-turbo-1106:personal::8Tc4ItA7', finished_at=1702068538, hyperparameters=Hyperparameters(n_epochs=3, batch_size=1, learning_rate_multiplier=2), model='gpt-3.5-turbo-1106', object='fine_tuning.job', organization_id='org-ChtvB8ZoouVV6zzwOOLkSTkV', result_files=['file-etH3Pdt46VW94hibHZNYinsy'], status='succeeded', trained_tokens=83736, training_file='file-Hx2GafeVOD9x6RDiUt9OZe1g', validation_file=None), FineTuningJob(id='ftjob-ALMHD076bgk938tgSEWgUtnb', created_at=1702067864, error=None, fine_tuned_model='ft:gpt-3.5-turbo-1106:personal:bac-gpt:8TbxRTTR', finished_at=1702068112, hyperparameters=Hyperparameters(n_epochs=1, batch_size=1, learning_rate_multiplier=2), model='gpt-3.5-turbo-1106', object='fine_tuning.job', organization_id='org-ChtvB8ZoouVV6zzwOOLkSTkV', result_files=['file-75h8mlduJQpVc0ETtGwrtX5v'], status='succeeded', trained_tokens=16242, training_file='file-jZ5SzUWmvjP33VJC2HqtUCPU', validation_file='file-DzAX0q7ueWUzOgi2PIW2bC8D'), FineTuningJob(id='ftjob-WGs2J1qg2VqGPnrwQhLjMdOn', created_at=1702064999, error=None, fine_tuned_model=None, finished_at=None, hyperparameters=Hyperparameters(n_epochs=3, batch_size=1, learning_rate_multiplier=2), model='gpt-3.5-turbo-0613', object='fine_tuning.job', organization_id='org-ChtvB8ZoouVV6zzwOOLkSTkV', result_files=[], status='cancelled', trained_tokens=None, training_file='file-5GfNf9aFvorBy2tq4erSc4vJ', validation_file=None), FineTuningJob(id='ftjob-dqeejWaXpulSV1Xaqp19VTUE', created_at=1702064701, error=None, fine_tuned_model='ft:gpt-3.5-turbo-0613:personal:bac-gpt:8Tb9RaAJ', finished_at=1702065012, hyperparameters=Hyperparameters(n_epochs=1, batch_size=1, learning_rate_multiplier=2), model='gpt-3.5-turbo-0613', object='fine_tuning.job', organization_id='org-ChtvB8ZoouVV6zzwOOLkSTkV', result_files=['file-rRRZoNMRds1hQjGcgyyNXiPH'], status='succeeded', trained_tokens=15102, training_file='file-68tTycFsQYktaiub1VxDGVrS', validation_file='file-xak470vNB3AbLozj1xB3ryfp'), FineTuningJob(id='ftjob-iKZlhKHR0nOUTzl1W334o5vE', created_at=1702064208, error=None, fine_tuned_model='ft:gpt-3.5-turbo-0613:personal:bac-gpt:8Tb4a8ZR', finished_at=1702064711, hyperparameters=Hyperparameters(n_epochs=3, batch_size=1, learning_rate_multiplier=2), model='gpt-3.5-turbo-0613', object='fine_tuning.job', organization_id='org-ChtvB8ZoouVV6zzwOOLkSTkV', result_files=['file-MmZz2YL7RnQ89nRhwglc3Oy4'], status='succeeded', trained_tokens=45306, training_file='file-68tTycFsQYktaiub1VxDGVrS', validation_file='file-xak470vNB3AbLozj1xB3ryfp'), FineTuningJob(id='ftjob-f4Jjk8wrfq24RANPoBuYhNaM', created_at=1702063637, error=None, fine_tuned_model='ft:gpt-3.5-turbo-0613:personal:bac-gpt:8TawAbBh', finished_at=1702064188, hyperparameters=Hyperparameters(n_epochs=3, batch_size=1, learning_rate_multiplier=2), model='gpt-3.5-turbo-0613', object='fine_tuning.job', organization_id='org-ChtvB8ZoouVV6zzwOOLkSTkV', result_files=['file-KB8SNx57hzjamFwo4idLNt94'], status='succeeded', trained_tokens=45306, training_file='file-68tTycFsQYktaiub1VxDGVrS', validation_file='file-xak470vNB3AbLozj1xB3ryfp'), FineTuningJob(id='ftjob-v9eJOEvRXfQ96qeVZEvuCgyI', created_at=1702063627, error=None, fine_tuned_model='ft:gpt-3.5-turbo-0613:personal:bac-gpt:8TavDFgf', finished_at=1702064130, hyperparameters=Hyperparameters(n_epochs=3, batch_size=1, learning_rate_multiplier=2), model='gpt-3.5-turbo-0613', object='fine_tuning.job', organization_id='org-ChtvB8ZoouVV6zzwOOLkSTkV', result_files=['file-0S4yK1yvk8vut3GgIaFf7K9r'], status='succeeded', trained_tokens=45306, training_file='file-68tTycFsQYktaiub1VxDGVrS', validation_file='file-xak470vNB3AbLozj1xB3ryfp')], object='list', has_more=True)"
      ]
     },
     "execution_count": 5,
     "metadata": {},
     "output_type": "execute_result"
    }
   ],
   "source": [
    "client.fine_tuning.jobs.list(limit=10)\n"
   ]
  },
  {
   "cell_type": "code",
   "execution_count": 6,
   "metadata": {},
   "outputs": [
    {
     "data": {
      "text/plain": [
       "FineTuningJob(id='ftjob-WFOqgKM5KHagdAUrHTb5EAwR', created_at=1702075527, error=None, fine_tuned_model=None, finished_at=None, hyperparameters=Hyperparameters(n_epochs=3, batch_size=1, learning_rate_multiplier=2), model='gpt-3.5-turbo-1106', object='fine_tuning.job', organization_id='org-ChtvB8ZoouVV6zzwOOLkSTkV', result_files=[], status='validating_files', trained_tokens=None, training_file='file-z8RpzLVA4UctZybXWbkQTzOd', validation_file=None)"
      ]
     },
     "execution_count": 6,
     "metadata": {},
     "output_type": "execute_result"
    }
   ],
   "source": [
    "# Retrieve the state of a fine-tune\n",
    "client.fine_tuning.jobs.retrieve(\"ftjob-WFOqgKM5KHagdAUrHTb5EAwR\")"
   ]
  },
  {
   "cell_type": "code",
   "execution_count": 7,
   "metadata": {},
   "outputs": [
    {
     "data": {
      "text/plain": [
       "SyncCursorPage[FineTuningJobEvent](data=[FineTuningJobEvent(id='ftevent-7mysS1H0LZj5ZXZQZIrtQZkT', created_at=1702075570, level='info', message='Files validated, moving job to queued state', object='fine_tuning.job.event', data={}, type='message'), FineTuningJobEvent(id='ftevent-QJtS4BfuZI7AAEvtF5cvNkb6', created_at=1702075527, level='info', message='Validating training file: file-z8RpzLVA4UctZybXWbkQTzOd', object='fine_tuning.job.event', data={}, type='message'), FineTuningJobEvent(id='ftevent-R8LejUR8o8sumHAypSAPESH6', created_at=1702075527, level='info', message='Created fine-tuning job: ftjob-WFOqgKM5KHagdAUrHTb5EAwR', object='fine_tuning.job.event', data={}, type='message')], object='list', has_more=False)"
      ]
     },
     "execution_count": 7,
     "metadata": {},
     "output_type": "execute_result"
    }
   ],
   "source": [
    "client.fine_tuning.jobs.list_events(fine_tuning_job_id=\"ftjob-WFOqgKM5KHagdAUrHTb5EAwR\", limit=10)"
   ]
  },
  {
   "cell_type": "code",
   "execution_count": 8,
   "metadata": {},
   "outputs": [
    {
     "data": {
      "text/plain": [
       "SyncCursorPage[FineTuningJobEvent](data=[FineTuningJobEvent(id='ftevent-Vo9AWXeQV2CIKXIc8JJd0LbY', created_at=1702075571, level='info', message='Fine-tuning job started', object='fine_tuning.job.event', data=None, type='message'), FineTuningJobEvent(id='ftevent-7mysS1H0LZj5ZXZQZIrtQZkT', created_at=1702075570, level='info', message='Files validated, moving job to queued state', object='fine_tuning.job.event', data={}, type='message'), FineTuningJobEvent(id='ftevent-QJtS4BfuZI7AAEvtF5cvNkb6', created_at=1702075527, level='info', message='Validating training file: file-z8RpzLVA4UctZybXWbkQTzOd', object='fine_tuning.job.event', data={}, type='message'), FineTuningJobEvent(id='ftevent-R8LejUR8o8sumHAypSAPESH6', created_at=1702075527, level='info', message='Created fine-tuning job: ftjob-WFOqgKM5KHagdAUrHTb5EAwR', object='fine_tuning.job.event', data={}, type='message')], object='list', has_more=False)"
      ]
     },
     "execution_count": 8,
     "metadata": {},
     "output_type": "execute_result"
    }
   ],
   "source": [
    "# List up to 10 events from a fine-tuning job\n",
    "client.fine_tuning.jobs.list_events(fine_tuning_job_id=\"ftjob-WFOqgKM5KHagdAUrHTb5EAwR\", limit=10)"
   ]
  },
  {
   "cell_type": "markdown",
   "metadata": {},
   "source": [
    "Use a fine-tuned model"
   ]
  },
  {
   "cell_type": "code",
   "execution_count": 14,
   "metadata": {},
   "outputs": [
    {
     "name": "stdout",
     "output_type": "stream",
     "text": [
      "ChatCompletionMessage(content=\"That's great! Selling socks can be a profitable business, especially if you focus on providing high-quality or unique designs. Do you already have a plan for how you'll source your socks, or do you need advice on getting started?\", role='assistant', function_call=None, tool_calls=None)\n"
     ]
    }
   ],
   "source": [
    "\n",
    "\n",
    "response = client.chat.completions.create(\n",
    "  model=\"tuned_gpt\",\n",
    "  messages=[\n",
    "    {\"role\": \"system\", \"content\": \"You are a helpful assistant.\"},\n",
    "    {\"role\": \"user\", \"content\": \"I want to sell socks\"}\n",
    "  ]\n",
    ")\n",
    "print(response.choices[0].message)"
   ]
  },
  {
   "cell_type": "code",
   "execution_count": 15,
   "metadata": {},
   "outputs": [
    {
     "name": "stdout",
     "output_type": "stream",
     "text": [
      "ChatCompletionMessage(content='Sure! What kind of business are you planning to start?', role='assistant', function_call=None, tool_calls=None)\n"
     ]
    }
   ],
   "source": [
    "response = client.chat.completions.create(\n",
    "  model=\"tuned_gpt\",\n",
    "  messages=[\n",
    "    {\"role\": \"system\", \"content\": \"You are a helpful assistant.\"},\n",
    "    {\"role\": \"user\", \"content\": \"I need a business plan\"}\n",
    "  ]\n",
    ")\n",
    "print(response.choices[0].message)"
   ]
  },
  {
   "cell_type": "code",
   "execution_count": 16,
   "metadata": {},
   "outputs": [
    {
     "name": "stdout",
     "output_type": "stream",
     "text": [
      "ChatCompletionMessage(content=\"To successfully sell socks, you'll need to clearly define your target audience, position your brand, and differentiate yourself from competitors. Additionally, you should focus on the following key elements:\\n\\n1. Quality: Emphasize the quality of your socks, including the materials used, durability, and comfort. Consider using premium materials and highlighting any special features, such as moisture-wicking or odor-reducing properties.\\n\\n2. Variety: Offer a diverse range of styles, from athletic and casual to dress and novelty socks. This allows you to cater to different preferences and occasions, appealing to a broader audience.\\n\\n3. Brand Story: Create a compelling brand story that resonates with your target customers. Whether it's about sustainability, social responsibility, or a unique founding story, a strong brand narrative can set your socks apart and create a more loyal customer base.\\n\\n4. Visual Identity: Develop a visually appealing and cohesive brand identity, including a distinctive logo and packaging design. Eye-catching visuals can enhance the perceived value of your socks and attract attention in a crowded marketplace.\\n\\n5. Online Presence: Utilize e-commerce platforms and social media to reach potential customers and showcase your product. Engage with your audience through creative content and establish a strong online community around your sock brand.\\n\\n6. Customer Experience: Provide exceptional customer service and consider implementing initiatives such as a hassle-free return policy, personalized packaging, or loyalty programs to foster customer satisfaction and repeat purchases.\\n\\n7. Partnerships and Collaborations: Explore partnerships with retailers, influencers, or other brands to expand your reach and tap into new customer segments.\\n\\nBy focusing on these aspects, you can effectively promote and sell your socks, ultimately driving sales and fostering brand loyalty.\", role='assistant', function_call=None, tool_calls=None)\n"
     ]
    }
   ],
   "source": [
    "response = client.chat.completions.create(\n",
    "  model=\"tuned_gpt\",\n",
    "  messages=[\n",
    "    {\"role\": \"system\", \"content\": \"You are a marketing expert.\"},\n",
    "    {\"role\": \"user\", \"content\": \"I want to sell socks\"}\n",
    "  ]\n",
    ")\n",
    "print(response.choices[0].message)"
   ]
  },
  {
   "cell_type": "code",
   "execution_count": 17,
   "metadata": {},
   "outputs": [
    {
     "name": "stdout",
     "output_type": "stream",
     "text": [
      "ChatCompletionMessage(content='\"Craving a delicious meal? Head over to [restaurant name] where you\\'ll find mouthwatering dishes, friendly service, and a cozy atmosphere. Bring your friends and family for a memorable dining experience! #foodie #restaurant #goodtimes\"', role='assistant', function_call=None, tool_calls=None)\n"
     ]
    }
   ],
   "source": [
    "response = client.chat.completions.create(\n",
    "  model=\"tuned_gpt\",\n",
    "  messages=[\n",
    "   \n",
    "    {\"role\": \"user\", \"content\": \"I want social media post to promote a restaurant\"}\n",
    "  ]\n",
    ")\n",
    "print(response.choices[0].message)"
   ]
  },
  {
   "cell_type": "markdown",
   "metadata": {},
   "source": []
  },
  {
   "cell_type": "code",
   "execution_count": null,
   "metadata": {},
   "outputs": [],
   "source": []
  }
 ],
 "metadata": {
  "kernelspec": {
   "display_name": "Python 3",
   "language": "python",
   "name": "python3"
  },
  "language_info": {
   "codemirror_mode": {
    "name": "ipython",
    "version": 3
   },
   "file_extension": ".py",
   "mimetype": "text/x-python",
   "name": "python",
   "nbconvert_exporter": "python",
   "pygments_lexer": "ipython3",
   "version": "3.9.6"
  }
 },
 "nbformat": 4,
 "nbformat_minor": 2
}
